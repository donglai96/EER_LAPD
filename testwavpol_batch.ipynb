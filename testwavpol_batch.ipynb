{
 "cells": [
  {
   "cell_type": "code",
   "execution_count": 1,
   "metadata": {},
   "outputs": [],
   "source": [
    "import pickle\n",
    "from read_lapd import read_lapd_data\n",
    "from bdot_process import emf2bw_areav\n",
    "import numpy as np\n",
    "import matplotlib.pyplot as plt\n",
    "import pyspedas\n",
    "from matplotlib import ticker, colors\n",
    "from mpl_toolkits.axes_grid1.inset_locator import inset_axes\n",
    "import h5py\n",
    "from bdot_process import emf2bw\n",
    "\n"
   ]
  },
  {
   "cell_type": "code",
   "execution_count": 3,
   "metadata": {},
   "outputs": [
    {
     "name": "stdout",
     "output_type": "stream",
     "text": [
      "Reading data from motion list XY[2]: Ta_paddle\n",
      "Reading motion list from module:  6K Compumotor\n",
      "No 3302 boards used.\n",
      "SIS 3305 boards used = [1, 2]\n",
      "SIS 3305 effective clock rate: Board 1 = 5000.0 MHz\n",
      "SIS 3305 effective clock rate: Board 2 = 5000.0 MHz\n",
      "---------- SIS 3305 list of enabled channels (4) ----------\n",
      "[ 0] Board 1, Channel 1: Bx-P25mov\n",
      "[ 1] Board 1, Channel 5: By-P25mov\n",
      "[ 2] Board 2, Channel 1: Bz-P25mov\n",
      "[ 3] Board 2, Channel 5: By-P26fxd\n",
      "------------------------------------------------------------\n",
      "Reading SIS 3305...\n",
      "------------------------------------------------------------\n",
      "Data geometry = xy-plane\n",
      "Read Channels = 0   1   2\n",
      "Shot range    = 8 to 8\n",
      "X value range = 0 to 0\n",
      "Y value range = 0 to 0\n",
      " (xx/yy/zz/shots/steps/chan) = (1/1/1/1/1/1) of (1/1/1/1/1/3)1 1\n",
      "Reading config name /Raw data + config/SIS crate/siscf0-4ch-5GHz-1Mpnts-200us [Slot 13: SIS 3305 FPGA 1 ch 1]\n",
      " (xx/yy/zz/shots/steps/chan) = (1/1/1/1/1/2) of (1/1/1/1/1/3)1 5\n",
      "Reading config name /Raw data + config/SIS crate/siscf0-4ch-5GHz-1Mpnts-200us [Slot 13: SIS 3305 FPGA 2 ch 1]\n",
      " (xx/yy/zz/shots/steps/chan) = (1/1/1/1/1/3) of (1/1/1/1/1/3)\n",
      "2 1\n",
      "Reading config name /Raw data + config/SIS crate/siscf0-4ch-5GHz-1Mpnts-200us [Slot 15: SIS 3305 FPGA 1 ch 1]\n",
      "!!! (nt, nx, ny, nshots, nchan) = (1007616, 1, 1, 1, 3)\n",
      "{'Calibration tag': b'07/20/2020', 'Profile z locations': array([-300.     , -297.727  , -295.45395, ..., 2020.754  , 2023.027  ,\n",
      "       2025.3    ], dtype=float32), 'Magnet power supply currents': array([[2.6014634e+03, 2.6118625e+03, 2.6165579e+03, 2.6215696e+03,\n",
      "        9.1104523e+02, 9.1068939e+02, 9.1339099e+02, 9.1045093e+02,\n",
      "        1.0749569e+02, 9.1130731e+02, 9.5367432e-03, 8.8800000e+02,\n",
      "        8.8800000e+02],\n",
      "       [2.6130718e+03, 2.6117505e+03, 2.6164429e+03, 2.6216714e+03,\n",
      "        9.1105066e+02, 9.1069763e+02, 9.1339325e+02, 9.1041699e+02,\n",
      "        1.1436092e+02, 9.1062878e+02, 1.7166138e-02, 8.8800000e+02,\n",
      "        8.8800000e+02]], dtype=float32), 'Magnetic field profile': array([[18.37857 , 18.71635 , 19.063097, ..., 62.793633, 60.929916,\n",
      "        59.143814],\n",
      "       [18.382792, 18.72061 , 19.067394, ..., 62.82588 , 60.961597,\n",
      "        59.174942]], dtype=float32), 'Magnetic field summary': array([(   0, 3.71096921e+09, 1, 1684.3998),\n",
      "       (6274, 3.71097798e+09, 1, 1684.8275)],\n",
      "      dtype=[('Shot number', '<i4'), ('Timestamp', '<f8'), ('Data valid', 'i1'), ('Peak magnetic field', '<f4')])}\n",
      "[[18.37857  18.71635  19.063097 ... 62.793633 60.929916 59.143814]\n",
      " [18.382792 18.72061  19.067394 ... 62.82588  60.961597 59.174942]]\n"
     ]
    },
    {
     "name": "stderr",
     "output_type": "stream",
     "text": [
      "26-Mar-24 12:45:46: wavpol Warning: file sampling frequency changes from 4999999999.999955Hz to 4999999999.650224Hz\n",
      "26-Mar-24 12:45:47: n_batches: 1\n",
      "26-Mar-24 12:45:47: Total number of steps:1968\n",
      "26-Mar-24 12:45:47: Total number of possible FFT in the batch no 0 is:1967.0\n",
      "26-Mar-24 12:45:47: wavpol step: 0 \n",
      "26-Mar-24 12:45:56: wavpol step: 40 \n",
      "26-Mar-24 12:46:04: wavpol step: 80 \n",
      "26-Mar-24 12:46:13: wavpol step: 120 \n"
     ]
    },
    {
     "ename": "KeyboardInterrupt",
     "evalue": "",
     "output_type": "error",
     "traceback": [
      "\u001b[0;31m---------------------------------------------------------------------------\u001b[0m",
      "\u001b[0;31mKeyboardInterrupt\u001b[0m                         Traceback (most recent call last)",
      "Cell \u001b[0;32mIn [3], line 44\u001b[0m\n\u001b[1;32m     41\u001b[0m \u001b[38;5;66;03m# No. of bins in frequency domain for averaging [1, 7]\u001b[39;00m\n\u001b[1;32m     42\u001b[0m bin_freq \u001b[38;5;241m=\u001b[39m \u001b[38;5;241m7\u001b[39m\n\u001b[0;32m---> 44\u001b[0m result \u001b[38;5;241m=\u001b[39m \u001b[43mpyspedas\u001b[49m\u001b[38;5;241;43m.\u001b[39;49m\u001b[43manalysis\u001b[49m\u001b[38;5;241;43m.\u001b[39;49m\u001b[43mtwavpol\u001b[49m\u001b[38;5;241;43m.\u001b[39;49m\u001b[43mwavpol\u001b[49m\u001b[43m(\u001b[49m\u001b[43mtt\u001b[49m\u001b[43m,\u001b[49m\u001b[43m \u001b[49m\u001b[43mbx\u001b[49m\u001b[43m,\u001b[49m\u001b[43m \u001b[49m\u001b[43mby\u001b[49m\u001b[43m,\u001b[49m\u001b[43m \u001b[49m\u001b[43mbz\u001b[49m\u001b[43m,\u001b[49m\u001b[43m \u001b[49m\u001b[43mnopfft\u001b[49m\u001b[38;5;241;43m=\u001b[39;49m\u001b[43mnopfft\u001b[49m\u001b[43m,\u001b[49m\u001b[43m \u001b[49m\u001b[43msteplength\u001b[49m\u001b[38;5;241;43m=\u001b[39;49m\u001b[43msteplength\u001b[49m\u001b[43m,\u001b[49m\u001b[43m \u001b[49m\u001b[43mbin_freq\u001b[49m\u001b[38;5;241;43m=\u001b[39;49m\u001b[43mbin_freq\u001b[49m\u001b[43m)\u001b[49m\n\u001b[1;32m     45\u001b[0m (timeline, freqline, powspec, degpol, waveangle,\n\u001b[1;32m     46\u001b[0m           elliptict, helict, pspec3, err_flag) \u001b[38;5;241m=\u001b[39m result\n\u001b[1;32m     48\u001b[0m \u001b[38;5;66;03m# make the figure\u001b[39;00m\n",
      "File \u001b[0;32m~/.local/lib/python3.10/site-packages/pyspedas/analysis/twavpol.py:562\u001b[0m, in \u001b[0;36mwavpol\u001b[0;34m(ct, bx, by, bz, nopfft, steplength, bin_freq)\u001b[0m\n\u001b[1;32m    558\u001b[0m zrmatspec[KK, :] \u001b[38;5;241m=\u001b[39m np\u001b[38;5;241m.\u001b[39mreal(ematspec[KK, :, \u001b[38;5;241m2\u001b[39m, \u001b[38;5;241m2\u001b[39m])\n\u001b[1;32m    560\u001b[0m \u001b[38;5;66;03m# Calculation of helicity, ellipticity\u001b[39;00m\n\u001b[1;32m    561\u001b[0m \u001b[38;5;66;03m# and the wave state vector\u001b[39;00m\n\u001b[0;32m--> 562\u001b[0m (helict[KK], elliptict[KK]) \u001b[38;5;241m=\u001b[39m \u001b[43mwpol_helicity\u001b[49m\u001b[43m(\u001b[49m\u001b[43mnosteps\u001b[49m\u001b[43m,\u001b[49m\n\u001b[1;32m    563\u001b[0m \u001b[43m                                            \u001b[49m\u001b[43mnopfft\u001b[49m\u001b[43m,\u001b[49m\n\u001b[1;32m    564\u001b[0m \u001b[43m                                            \u001b[49m\u001b[43mKK\u001b[49m\u001b[43m,\u001b[49m\n\u001b[1;32m    565\u001b[0m \u001b[43m                                            \u001b[49m\u001b[43mematspec\u001b[49m\u001b[43m,\u001b[49m\n\u001b[1;32m    566\u001b[0m \u001b[43m                                            \u001b[49m\u001b[43mwaveangle\u001b[49m\u001b[43m)\u001b[49m\n\u001b[1;32m    568\u001b[0m \u001b[38;5;66;03m# Scaling power results to units with meaning\u001b[39;00m\n\u001b[1;32m    569\u001b[0m binwidth \u001b[38;5;241m=\u001b[39m samp_freq \u001b[38;5;241m/\u001b[39m nopfft\n",
      "File \u001b[0;32m~/.local/lib/python3.10/site-packages/pyspedas/analysis/twavpol.py:204\u001b[0m, in \u001b[0;36mwpol_helicity\u001b[0;34m(nosteps, nopfft, KK, ematspec, waveangle)\u001b[0m\n\u001b[1;32m    201\u001b[0m         gammay \u001b[38;5;241m=\u001b[39m (\u001b[38;5;241m2\u001b[39m\u001b[38;5;241m*\u001b[39mnp\u001b[38;5;241m.\u001b[39mpi \u001b[38;5;241m+\u001b[39m atan2c(upper, lower))\n\u001b[1;32m    202\u001b[0m lambday[KK, k, k1, :] \u001b[38;5;241m=\u001b[39m (np\u001b[38;5;241m.\u001b[39mexp((\u001b[38;5;241m0.0\u001b[39m \u001b[38;5;241m-\u001b[39m \u001b[38;5;241m1\u001b[39mj\u001b[38;5;241m*\u001b[39m\u001b[38;5;241m0.5\u001b[39m\u001b[38;5;241m*\u001b[39mgammay)) \u001b[38;5;241m*\u001b[39m\n\u001b[1;32m    203\u001b[0m                          lambdau[KK, k, k1, :])\n\u001b[0;32m--> 204\u001b[0m lay2 \u001b[38;5;241m=\u001b[39m \u001b[43mnp\u001b[49m\u001b[38;5;241;43m.\u001b[39;49m\u001b[43mimag\u001b[49m\u001b[43m(\u001b[49m\u001b[43mlambday\u001b[49m\u001b[43m[\u001b[49m\u001b[43mKK\u001b[49m\u001b[43m,\u001b[49m\u001b[43m \u001b[49m\u001b[43mk\u001b[49m\u001b[43m,\u001b[49m\u001b[43m \u001b[49m\u001b[43mk1\u001b[49m\u001b[43m,\u001b[49m\u001b[43m \u001b[49m\u001b[38;5;241;43m0\u001b[39;49m\u001b[43m:\u001b[49m\u001b[38;5;241;43m3\u001b[39;49m\u001b[43m]\u001b[49m\u001b[43m)\u001b[49m\u001b[38;5;241m*\u001b[39m\u001b[38;5;241m*\u001b[39m\u001b[38;5;241m2\u001b[39m\n\u001b[1;32m    205\u001b[0m \u001b[38;5;66;03m# Using nansum() rather than sum() in the helicity calculation results in a mismatch betweeen IDL and Python results.\u001b[39;00m\n\u001b[1;32m    206\u001b[0m helicity[KK, k, k1] \u001b[38;5;241m=\u001b[39m (\u001b[38;5;241m1\u001b[39m \u001b[38;5;241m/\u001b[39m\n\u001b[1;32m    207\u001b[0m                        (np\u001b[38;5;241m.\u001b[39msqrt(np\u001b[38;5;241m.\u001b[39mreal(lambday[KK, k, k1, \u001b[38;5;241m0\u001b[39m])\u001b[38;5;241m*\u001b[39m\u001b[38;5;241m*\u001b[39m\u001b[38;5;241m2\u001b[39m \u001b[38;5;241m+\u001b[39m\n\u001b[1;32m    208\u001b[0m                         np\u001b[38;5;241m.\u001b[39mreal(lambday[KK, k, k1, \u001b[38;5;241m1\u001b[39m])\u001b[38;5;241m*\u001b[39m\u001b[38;5;241m*\u001b[39m\u001b[38;5;241m2\u001b[39m \u001b[38;5;241m+\u001b[39m\n\u001b[1;32m    209\u001b[0m                         np\u001b[38;5;241m.\u001b[39mreal(lambday[KK, k, k1, \u001b[38;5;241m2\u001b[39m])\u001b[38;5;241m*\u001b[39m\u001b[38;5;241m*\u001b[39m\u001b[38;5;241m2\u001b[39m) \u001b[38;5;241m/\u001b[39m\n\u001b[1;32m    210\u001b[0m                         np\u001b[38;5;241m.\u001b[39msqrt(np\u001b[38;5;241m.\u001b[39msum(lay2))))\n",
      "File \u001b[0;32m<__array_function__ internals>:180\u001b[0m, in \u001b[0;36mimag\u001b[0;34m(*args, **kwargs)\u001b[0m\n",
      "File \u001b[0;32m/usr/lib/python3/dist-packages/numpy/lib/type_check.py:163\u001b[0m, in \u001b[0;36m_imag_dispatcher\u001b[0;34m(val)\u001b[0m\n\u001b[1;32m    159\u001b[0m     \u001b[38;5;28;01mexcept\u001b[39;00m \u001b[38;5;167;01mAttributeError\u001b[39;00m:\n\u001b[1;32m    160\u001b[0m         \u001b[38;5;28;01mreturn\u001b[39;00m asanyarray(val)\u001b[38;5;241m.\u001b[39mreal\n\u001b[0;32m--> 163\u001b[0m \u001b[38;5;28;01mdef\u001b[39;00m \u001b[38;5;21m_imag_dispatcher\u001b[39m(val):\n\u001b[1;32m    164\u001b[0m     \u001b[38;5;28;01mreturn\u001b[39;00m (val,)\n\u001b[1;32m    167\u001b[0m \u001b[38;5;129m@array_function_dispatch\u001b[39m(_imag_dispatcher)\n\u001b[1;32m    168\u001b[0m \u001b[38;5;28;01mdef\u001b[39;00m \u001b[38;5;21mimag\u001b[39m(val):\n",
      "\u001b[0;31mKeyboardInterrupt\u001b[0m: "
     ]
    }
   ],
   "source": [
    "\n",
    "datapath = '/data/BAPSF_Data/Energetic_Electron_Ring/jul2021/'\n",
    "filename = '04-bfield-p25-plane-He-1kG-uwave-l5ms-mirror-min-305G.hdf5'\n",
    "\n",
    "\n",
    "filepath = datapath + filename\n",
    "for i in range(20):\n",
    "    data = read_lapd_data(filepath, rchan=[0, 1, 2], rshot=[8], xrange=[i], yrange=[0])\n",
    "\n",
    "    # Not sure how to get this one, remember to ask Xin!\n",
    "\n",
    "    area = [1.889e-1, 1.843e-1, 1.501e-1]\n",
    "\n",
    "    fs = 1.0 / data['dt'][0]\n",
    "    lowcut = 1.5e8\n",
    "    highcut = 1e9\n",
    "    bx = emf2bw(np.squeeze(data['data'])[:, 0], area[0], \\\n",
    "            lowcut, highcut, fs, rm_radio=1)\n",
    "    by = emf2bw(np.squeeze(data['data'])[:, 1], area[1], \\\n",
    "            lowcut, highcut, fs, rm_radio=1)\n",
    "    bz = emf2bw(np.squeeze(data['data'])[:, 2], area[2], \\\n",
    "            lowcut, highcut, fs, rm_radio=1)\n",
    "    # bx = emf2bw_areav(np.squeeze(data['data'])[:, 0], areav[0], \\\n",
    "    #         lowcut, highcut, fs, rm_radio=1)\n",
    "    # by = emf2bw_areav(np.squeeze(data['data'])[:, 1], areav[1], \\\n",
    "    #         lowcut, highcut, fs, rm_radio=1)\n",
    "    # bz = emf2bw_areav(np.squeeze(data['data'])[:, 2], areav[2], \\\n",
    "    #         lowcut, highcut, fs, rm_radio=1)\n",
    "\n",
    "    # truncate time series at the beginning and end sections\n",
    "    ntrunc = 100\n",
    "    bx = bx[ntrunc:-ntrunc]\n",
    "    by = by[ntrunc:-ntrunc]\n",
    "    bz = bz[ntrunc:-ntrunc]\n",
    "    tt = data['time'][ntrunc:-ntrunc]\n",
    "    \n",
    "\n",
    "    # Number of points in FFT\n",
    "    nopfft = 1024\n",
    "    # The amount of overlap between successive FFT intervals\n",
    "    steplength = nopfft / 2\n",
    "    # No. of bins in frequency domain for averaging [1, 7]\n",
    "    bin_freq = 7\n",
    "    \n",
    "    result = pyspedas.analysis.twavpol.wavpol(tt, bx, by, bz, nopfft=nopfft, steplength=steplength, bin_freq=bin_freq)\n",
    "    (timeline, freqline, powspec, degpol, waveangle,\n",
    "              elliptict, helict, pspec3, err_flag) = result\n",
    "    \n",
    "    # make the figure\n",
    "    fig, axs = plt.subplots(5, 1, figsize=[6.4, 12.8],\\\n",
    "        sharex=True, constrained_layout=True)\n",
    "    tfactor = 1e6\n",
    "    tgrid, fgrid = np.meshgrid(timeline, freqline)\n",
    "    ax = axs[0]\n",
    "    ax.plot(tt*tfactor, bx, label=r'$x$')\n",
    "    ax.plot(tt*tfactor, by, label=r'$y$')\n",
    "    ax.plot(tt*tfactor, bz, label=r'$z$')\n",
    "    ax.set_xlim([tt[0]*tfactor, tt[-1]*tfactor])\n",
    "    ax.set_ylabel(r'Magnetic field [G]')\n",
    "    ax.legend(ncol=1, loc='center right', bbox_to_anchor=(1.2,0.5))\n",
    "\n",
    "\n",
    "    cmap = plt.get_cmap('nipy_spectral')\n",
    "    logpow = np.log10(powspec)\n",
    "    vmax = np.max(logpow)\n",
    "    vmin = vmax - 8\n",
    "    vlvs = np.linspace(vmin, vmax, 101)\n",
    "    norm = colors.BoundaryNorm(vlvs, ncolors=cmap.N)\n",
    "    im = axs[1].pcolormesh(tgrid*tfactor, fgrid/1e9, logpow.T, cmap=cmap, norm=norm, shading = 'nearest')\n",
    "    axs[1].set_ylim([0, highcut/1e9])\n",
    "    axs[1].set_ylabel(r'$f$ [GHz]')\n",
    "    # colorbar\n",
    "    l = ticker.AutoLocator()\n",
    "    l.create_dummy_axis()\n",
    "    ticks = l.tick_values(vmin, vmax)\n",
    "    axins = inset_axes(axs[1], width=\"5%\", height=\"100%\", loc='lower left',\\\n",
    "            bbox_to_anchor=(1.01, 0, 1, 1), bbox_transform=axs[1].transAxes,\\\n",
    "            borderpad=0)\n",
    "    cb = fig.colorbar(im, cax=axins, ticks=ticks, orientation='vertical')\n",
    "    cb.ax.set_ylabel(r'$\\log_{10} B^2$')\n",
    "\n",
    "    cmap = plt.get_cmap('nipy_spectral')\n",
    "    vmax = 1\n",
    "    vmin = 0\n",
    "    vlvs = np.linspace(vmin, vmax, 101)\n",
    "    norm = colors.BoundaryNorm(vlvs, ncolors=cmap.N)\n",
    "    im = axs[2].pcolormesh(tgrid*tfactor, fgrid/1e9, degpol.T, cmap=cmap, norm=norm,shading = 'nearest')\n",
    "    axs[2].set_ylim([0, highcut/1e9])\n",
    "    axs[2].set_ylabel(r'$f$ [GHz]')\n",
    "    # colorbar\n",
    "    l = ticker.AutoLocator()\n",
    "    l.create_dummy_axis()\n",
    "    ticks = l.tick_values(vmin, vmax)\n",
    "    axins = inset_axes(axs[2], width=\"5%\", height=\"100%\", loc='lower left',\\\n",
    "            bbox_to_anchor=(1.01, 0, 1, 1), bbox_transform=axs[2].transAxes,\\\n",
    "            borderpad=0)\n",
    "    cb = fig.colorbar(im, cax=axins, ticks=ticks, orientation='vertical')\n",
    "    cb.ax.set_ylabel('Polarization')\n",
    "    cb.formatter.set_powerlimits((0, 0))\n",
    "    cb.update_ticks()\n",
    "\n",
    "\n",
    "\n",
    "    ax = axs[3]\n",
    "    cmap = plt.get_cmap('nipy_spectral')\n",
    "    vmax = 90\n",
    "    vmin = 0\n",
    "    vlvs = np.linspace(vmin, vmax, 101)\n",
    "    norm = colors.BoundaryNorm(vlvs, ncolors=cmap.N)\n",
    "    im = ax.pcolormesh(tgrid*tfactor, fgrid/1e9, np.rad2deg(waveangle).T, cmap=cmap, norm=norm,shading = 'nearest')\n",
    "    ax.set_ylabel(r'$f$ [GHz]')\n",
    "    ax.set_ylim([0, highcut/1e9])\n",
    "    # colorbar\n",
    "    l = ticker.AutoLocator()\n",
    "    l.create_dummy_axis()\n",
    "    ticks = l.tick_values(vmin, vmax)\n",
    "    axins = inset_axes(ax, width=\"5%\", height=\"100%\", loc='lower left',\\\n",
    "            bbox_to_anchor=(1.01, 0, 1, 1), bbox_transform=ax.transAxes,\\\n",
    "            borderpad=0)\n",
    "    cb = fig.colorbar(im, cax=axins, ticks=ticks, orientation='vertical')\n",
    "    cb.ax.set_ylabel(r'$\\theta_{kB}$ [Deg]')\n",
    "\n",
    "    ax = axs[4]\n",
    "    cmap = plt.get_cmap('bwr')\n",
    "    vmax = 1\n",
    "    vmin = -1\n",
    "    vlvs = np.linspace(vmin, vmax, 101)\n",
    "    norm = colors.BoundaryNorm(vlvs, ncolors=cmap.N)\n",
    "    im = ax.pcolormesh(tgrid*tfactor, fgrid/1e9, elliptict.T, cmap=cmap, norm=norm,shading = 'nearest')\n",
    "    ax.set_ylim([0, highcut/1e9])\n",
    "    ax.set_xlabel(r'Time [$\\mu$s]')\n",
    "    ax.set_ylabel(r'$f$ [GHz]')\n",
    "    # colorbar\n",
    "    l = ticker.AutoLocator()\n",
    "    l.create_dummy_axis()\n",
    "    ticks = l.tick_values(vmin, vmax)\n",
    "    axins = inset_axes(ax, width=\"5%\", height=\"100%\", loc='lower left',\\\n",
    "            bbox_to_anchor=(1.01, 0, 1, 1), bbox_transform=ax.transAxes,\\\n",
    "            borderpad=0)\n",
    "    cb = fig.colorbar(im, cax=axins, ticks=ticks, orientation='vertical')\n",
    "    cb.ax.set_ylabel('Ellipticity')\n",
    "    file_id = '04_x_' + str(int(i))\n",
    "    plt.savefig(file_id + 'tst_wavpol.png', dpi=300)\n",
    "\n",
    "    plt.show()\n",
    "\n",
    "#result = pyspedas.analysis.twavpol.wavpol(tt, bx, by, bz, nopfft=nopfft, steplength=steplength, bin_freq=bin_freq)\n"
   ]
  },
  {
   "cell_type": "code",
   "execution_count": 11,
   "metadata": {},
   "outputs": [
    {
     "data": {
      "text/plain": [
       "(512, 1968)"
      ]
     },
     "execution_count": 11,
     "metadata": {},
     "output_type": "execute_result"
    }
   ],
   "source": [
    "(tgrid*tfactor).shape"
   ]
  },
  {
   "cell_type": "code",
   "execution_count": 12,
   "metadata": {},
   "outputs": [
    {
     "data": {
      "text/plain": [
       "(512, 1968)"
      ]
     },
     "execution_count": 12,
     "metadata": {},
     "output_type": "execute_result"
    }
   ],
   "source": [
    "fgrid.shape"
   ]
  },
  {
   "cell_type": "code",
   "execution_count": 13,
   "metadata": {},
   "outputs": [
    {
     "data": {
      "text/plain": [
       "(1968, 512)"
      ]
     },
     "execution_count": 13,
     "metadata": {},
     "output_type": "execute_result"
    }
   ],
   "source": [
    "logpow.shape"
   ]
  },
  {
   "cell_type": "code",
   "execution_count": null,
   "metadata": {},
   "outputs": [],
   "source": []
  }
 ],
 "metadata": {
  "kernelspec": {
   "display_name": "Python 3 (ipykernel)",
   "language": "python",
   "name": "python3"
  },
  "language_info": {
   "codemirror_mode": {
    "name": "ipython",
    "version": 3
   },
   "file_extension": ".py",
   "mimetype": "text/x-python",
   "name": "python",
   "nbconvert_exporter": "python",
   "pygments_lexer": "ipython3",
   "version": "3.10.9"
  }
 },
 "nbformat": 4,
 "nbformat_minor": 2
}
