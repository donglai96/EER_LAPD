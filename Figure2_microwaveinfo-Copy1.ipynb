{
 "cells": [
  {
   "cell_type": "code",
   "execution_count": 1,
   "id": "78b0f5ba",
   "metadata": {},
   "outputs": [],
   "source": [
    "import numpy as np\n",
    "import matplotlib.pyplot as plt\n",
    "from read_lapd import read_lapd_data\n",
    "# from toolbox import bdot\n",
    "from bdot_calib import bint_fft\n",
    "import numpy as np\n",
    "from scipy import constants as const\n",
    "from scipy import fft\n",
    "import time\n",
    "from scipy.ndimage import maximum_filter1d, uniform_filter1d"
   ]
  },
  {
   "cell_type": "code",
   "execution_count": 11,
   "id": "41b9a8cd",
   "metadata": {},
   "outputs": [],
   "source": [
    "datapath = '/data/BAPSF_Data/Energetic_Electron_Ring/jul2021/'\n",
    "filename = datapath + \\\n",
    "         '12-bfield-bmirror-scan-p25-xline-uwave-l5ms-mirror-min-320G.hdf5'"
   ]
  },
  {
   "cell_type": "code",
   "execution_count": 12,
   "id": "a2c5a8d5",
   "metadata": {},
   "outputs": [],
   "source": [
    "from EER_read_utils import *\n",
    "\n",
    "data_dict = get_lapd_fileinfo(filename)"
   ]
  },
  {
   "cell_type": "code",
   "execution_count": 13,
   "id": "c380cd1f",
   "metadata": {},
   "outputs": [
    {
     "data": {
      "text/plain": [
       "{'Data run': '12-bfield-bmirror-scan-p25-xline-uwave-l5ms-mirror-min-320G',\n",
       " 'Description': \"Recording high frequency whistler magnetic field using a moving EB probe on port 25 and a fixed EB probe on port 26.\\n\\nLAPD B field:\\n========\\nBlack magnets at south: 890 A (PS12, 13),\\nYellow magnets: 1000 G uniform (PS1,2,3,4) \\nPurple magnets: 1000 G uniform (PS5-10), Except PS9 at 140 A\\nBlack magnets at north: 0 A (PS11)\\n(1000 G uniform field in bulk, 1700 G near big LaB6 source, 320G at mirror minima at P35)\\n\\nSouth LaB6 source:\\n============\\nHe plasma , 97 V PS/60 V cathode-anode/5.2 kA, 1 Hz rep rate \\nHeater: ~48.7Vrms/1971A\\nHe Pressure: 2.6e-5torr, dial ~620 on low flow mfc,  6.2/19 mtorr mech pumps\\nApprox 7 fringes on 100 GHz Interferrometer near port 22\\n\\nNorth LaB6 source:  (OFF)\\n================\\n\\nMicorwave/Magnetron source to produce the elecron ring on port 35 west:\\n================================================\\nMagnet: 4.15 V/25.7 A, Filament: 52 A\\nVoltage: 14 kV, Current:  1.5/3.5 A\\nSee saved PNG file associated with this run under DSO-traces for channel traces\\nspecially for reflected signal (C3) and\\nforward signal using uwave diode on the side port (C4).\\nEnd of laucher at x = -31 cm\\n\\n\\nTiming:\\n=====\\nPlasma: 0-8 ms (only south LaB6 source)\\nMagnetron: starting 30 ms, pulse-width is ~15.5 ms\\nDAQ trigger: 44.0 ms   \\nNote: DAQ trigger was adjusted to capture strong whistler signal towards the end of the pulse\\n\\nEB probe:\\n=======\\nMoving on Port 25 and Fixed on Port 26 (x = ~12 cm, y = 0 cm)\\nFixed probe is axially moved closer to Port 25, approx axial seperation: 20 cm\\nEB Probe connections:\\nhigh freq B+,B- output -> Differential/Mixer ZFSC-J-2.4-S+  (50-1000 MHz) ->\\nPat's G 100 Amplifier (7-1000 MHz) -> SLP-1000+ low pass filter (DC-900 MHz) ->\\nFTB-1-1*A15+ transformer (0.2-500 MHz)->SIS3305 DAQ channel (~200 us at 5 GHz)\\nThe transformer has freq roll off above 500 MHz, ~15 dB at 1 GHz, check minicircuit specs for more detail \\n\\n\\nChannels:\\n======\\nBoard 13: \\nChan 1: Bx P25, moving, G: 100, f < 1 GHz \\nChan 5: By P25, moving, G: 100, f < 1 GHz \\nBoard 15: \\nChan 1: Bz P25, moving, G: 100, f < 1 GHz \\nChan 5: By P26, fixed, G: 100, f < 1 GHz \\n\",\n",
       " 'Experiment description': 'Initial experiments after several years of gap. The microwave source is on port 35 west.  ',\n",
       " 'Experiment name': 'jul2021',\n",
       " 'Experiment set description': 'Experiments on Magnetic Mirror Trapped Fast Electrons produced by a microwave source. These experiments may include scattring of the electron ring by a shear alfvén Wave and production of whistler and other plasma waves by energtic electrons.',\n",
       " 'Experiment set name': 'Energetic_Electron_Ring',\n",
       " 'Investigator': 'Tripathi',\n",
       " 'Status': 'Started',\n",
       " 'Status date': '8/5/2021 4:46:42 PM'}"
      ]
     },
     "execution_count": 13,
     "metadata": {},
     "output_type": "execute_result"
    }
   ],
   "source": [
    "data_dict"
   ]
  },
  {
   "cell_type": "code",
   "execution_count": 14,
   "id": "f1d73c4d",
   "metadata": {},
   "outputs": [
    {
     "name": "stdout",
     "output_type": "stream",
     "text": [
      "Recording high frequency whistler magnetic field using a moving EB probe on port 25 and a fixed EB probe on port 26.\n",
      "\n",
      "LAPD B field:\n",
      "========\n",
      "Black magnets at south: 890 A (PS12, 13),\n",
      "Yellow magnets: 1000 G uniform (PS1,2,3,4) \n",
      "Purple magnets: 1000 G uniform (PS5-10), Except PS9 at 140 A\n",
      "Black magnets at north: 0 A (PS11)\n",
      "(1000 G uniform field in bulk, 1700 G near big LaB6 source, 320G at mirror minima at P35)\n",
      "\n",
      "South LaB6 source:\n",
      "============\n",
      "He plasma , 97 V PS/60 V cathode-anode/5.2 kA, 1 Hz rep rate \n",
      "Heater: ~48.7Vrms/1971A\n",
      "He Pressure: 2.6e-5torr, dial ~620 on low flow mfc,  6.2/19 mtorr mech pumps\n",
      "Approx 7 fringes on 100 GHz Interferrometer near port 22\n",
      "\n",
      "North LaB6 source:  (OFF)\n",
      "================\n",
      "\n",
      "Micorwave/Magnetron source to produce the elecron ring on port 35 west:\n",
      "================================================\n",
      "Magnet: 4.15 V/25.7 A, Filament: 52 A\n",
      "Voltage: 14 kV, Current:  1.5/3.5 A\n",
      "See saved PNG file associated with this run under DSO-traces for channel traces\n",
      "specially for reflected signal (C3) and\n",
      "forward signal using uwave diode on the side port (C4).\n",
      "End of laucher at x = -31 cm\n",
      "\n",
      "\n",
      "Timing:\n",
      "=====\n",
      "Plasma: 0-8 ms (only south LaB6 source)\n",
      "Magnetron: starting 30 ms, pulse-width is ~15.5 ms\n",
      "DAQ trigger: 44.0 ms   \n",
      "Note: DAQ trigger was adjusted to capture strong whistler signal towards the end of the pulse\n",
      "\n",
      "EB probe:\n",
      "=======\n",
      "Moving on Port 25 and Fixed on Port 26 (x = ~12 cm, y = 0 cm)\n",
      "Fixed probe is axially moved closer to Port 25, approx axial seperation: 20 cm\n",
      "EB Probe connections:\n",
      "high freq B+,B- output -> Differential/Mixer ZFSC-J-2.4-S+  (50-1000 MHz) ->\n",
      "Pat's G 100 Amplifier (7-1000 MHz) -> SLP-1000+ low pass filter (DC-900 MHz) ->\n",
      "FTB-1-1*A15+ transformer (0.2-500 MHz)->SIS3305 DAQ channel (~200 us at 5 GHz)\n",
      "The transformer has freq roll off above 500 MHz, ~15 dB at 1 GHz, check minicircuit specs for more detail \n",
      "\n",
      "\n",
      "Channels:\n",
      "======\n",
      "Board 13: \n",
      "Chan 1: Bx P25, moving, G: 100, f < 1 GHz \n",
      "Chan 5: By P25, moving, G: 100, f < 1 GHz \n",
      "Board 15: \n",
      "Chan 1: Bz P25, moving, G: 100, f < 1 GHz \n",
      "Chan 5: By P26, fixed, G: 100, f < 1 GHz \n",
      "\n"
     ]
    }
   ],
   "source": [
    "print(data_dict['Description'])"
   ]
  },
  {
   "cell_type": "code",
   "execution_count": 8,
   "id": "77be2c1b",
   "metadata": {},
   "outputs": [
    {
     "name": "stdout",
     "output_type": "stream",
     "text": [
      "Reading data from motion list XY[2]: Ta_paddle\n",
      "Reading motion list from module:  6K Compumotor\n",
      "No 3302 boards used.\n",
      "SIS 3305 boards used = [1, 2]\n",
      "SIS 3305 effective clock rate: Board 1 = 5000.0 MHz\n",
      "SIS 3305 effective clock rate: Board 2 = 5000.0 MHz\n",
      "---------- SIS 3305 list of enabled channels (4) ----------\n",
      "[ 0] Board 1, Channel 1: Bx-P25mov\n",
      "[ 1] Board 1, Channel 5: By-P25mov\n",
      "[ 2] Board 2, Channel 1: Bz-P25mov\n",
      "[ 3] Board 2, Channel 5: By-P26fxd\n",
      "------------------------------------------------------------\n",
      "Reading SIS 3305...\n",
      "------------------------------------------------------------\n",
      "Data geometry = xy-plane\n",
      "Read Channels = 3\n",
      "Shot range    = 4 to 4\n",
      "X value range = 0 to 40\n",
      "Y value range = 0 to 0\n",
      " (xx/yy/zz/shots/steps/chan) = (1/1/1/1/1/1) of (41/1/1/1/1/1)2 5\n",
      "Reading config name /Raw data + config/SIS crate/siscf0-4ch-5GHz-1Mpnts-200us [Slot 15: SIS 3305 FPGA 2 ch 1]\n",
      " (xx/yy/zz/shots/steps/chan) = (2/1/1/1/1/1) of (41/1/1/1/1/1)2 5\n",
      "Reading config name /Raw data + config/SIS crate/siscf0-4ch-5GHz-1Mpnts-200us [Slot 15: SIS 3305 FPGA 2 ch 1]\n",
      " (xx/yy/zz/shots/steps/chan) = (3/1/1/1/1/1) of (41/1/1/1/1/1)2 5\n",
      "Reading config name /Raw data + config/SIS crate/siscf0-4ch-5GHz-1Mpnts-200us [Slot 15: SIS 3305 FPGA 2 ch 1]\n",
      " (xx/yy/zz/shots/steps/chan) = (4/1/1/1/1/1) of (41/1/1/1/1/1)2 5\n",
      "Reading config name /Raw data + config/SIS crate/siscf0-4ch-5GHz-1Mpnts-200us [Slot 15: SIS 3305 FPGA 2 ch 1]\n",
      " (xx/yy/zz/shots/steps/chan) = (5/1/1/1/1/1) of (41/1/1/1/1/1)2 5\n",
      "Reading config name /Raw data + config/SIS crate/siscf0-4ch-5GHz-1Mpnts-200us [Slot 15: SIS 3305 FPGA 2 ch 1]\n",
      " (xx/yy/zz/shots/steps/chan) = (6/1/1/1/1/1) of (41/1/1/1/1/1)2 5\n",
      "Reading config name /Raw data + config/SIS crate/siscf0-4ch-5GHz-1Mpnts-200us [Slot 15: SIS 3305 FPGA 2 ch 1]\n",
      " (xx/yy/zz/shots/steps/chan) = (7/1/1/1/1/1) of (41/1/1/1/1/1)2 5\n",
      "Reading config name /Raw data + config/SIS crate/siscf0-4ch-5GHz-1Mpnts-200us [Slot 15: SIS 3305 FPGA 2 ch 1]\n",
      " (xx/yy/zz/shots/steps/chan) = (8/1/1/1/1/1) of (41/1/1/1/1/1)2 5\n",
      "Reading config name /Raw data + config/SIS crate/siscf0-4ch-5GHz-1Mpnts-200us [Slot 15: SIS 3305 FPGA 2 ch 1]\n",
      " (xx/yy/zz/shots/steps/chan) = (9/1/1/1/1/1) of (41/1/1/1/1/1)2 5\n",
      "Reading config name /Raw data + config/SIS crate/siscf0-4ch-5GHz-1Mpnts-200us [Slot 15: SIS 3305 FPGA 2 ch 1]\n",
      " (xx/yy/zz/shots/steps/chan) = (10/1/1/1/1/1) of (41/1/1/1/1/1)2 5\n",
      "Reading config name /Raw data + config/SIS crate/siscf0-4ch-5GHz-1Mpnts-200us [Slot 15: SIS 3305 FPGA 2 ch 1]\n",
      " (xx/yy/zz/shots/steps/chan) = (11/1/1/1/1/1) of (41/1/1/1/1/1)2 5\n",
      "Reading config name /Raw data + config/SIS crate/siscf0-4ch-5GHz-1Mpnts-200us [Slot 15: SIS 3305 FPGA 2 ch 1]\n",
      " (xx/yy/zz/shots/steps/chan) = (12/1/1/1/1/1) of (41/1/1/1/1/1)2 5\n",
      "Reading config name /Raw data + config/SIS crate/siscf0-4ch-5GHz-1Mpnts-200us [Slot 15: SIS 3305 FPGA 2 ch 1]\n",
      " (xx/yy/zz/shots/steps/chan) = (13/1/1/1/1/1) of (41/1/1/1/1/1)2 5\n",
      "Reading config name /Raw data + config/SIS crate/siscf0-4ch-5GHz-1Mpnts-200us [Slot 15: SIS 3305 FPGA 2 ch 1]\n",
      " (xx/yy/zz/shots/steps/chan) = (14/1/1/1/1/1) of (41/1/1/1/1/1)2 5\n",
      "Reading config name /Raw data + config/SIS crate/siscf0-4ch-5GHz-1Mpnts-200us [Slot 15: SIS 3305 FPGA 2 ch 1]\n",
      " (xx/yy/zz/shots/steps/chan) = (15/1/1/1/1/1) of (41/1/1/1/1/1)2 5\n",
      "Reading config name /Raw data + config/SIS crate/siscf0-4ch-5GHz-1Mpnts-200us [Slot 15: SIS 3305 FPGA 2 ch 1]\n",
      " (xx/yy/zz/shots/steps/chan) = (16/1/1/1/1/1) of (41/1/1/1/1/1)2 5\n",
      "Reading config name /Raw data + config/SIS crate/siscf0-4ch-5GHz-1Mpnts-200us [Slot 15: SIS 3305 FPGA 2 ch 1]\n",
      " (xx/yy/zz/shots/steps/chan) = (17/1/1/1/1/1) of (41/1/1/1/1/1)2 5\n",
      "Reading config name /Raw data + config/SIS crate/siscf0-4ch-5GHz-1Mpnts-200us [Slot 15: SIS 3305 FPGA 2 ch 1]\n",
      " (xx/yy/zz/shots/steps/chan) = (18/1/1/1/1/1) of (41/1/1/1/1/1)2 5\n",
      "Reading config name /Raw data + config/SIS crate/siscf0-4ch-5GHz-1Mpnts-200us [Slot 15: SIS 3305 FPGA 2 ch 1]\n",
      " (xx/yy/zz/shots/steps/chan) = (19/1/1/1/1/1) of (41/1/1/1/1/1)2 5\n",
      "Reading config name /Raw data + config/SIS crate/siscf0-4ch-5GHz-1Mpnts-200us [Slot 15: SIS 3305 FPGA 2 ch 1]\n",
      " (xx/yy/zz/shots/steps/chan) = (20/1/1/1/1/1) of (41/1/1/1/1/1)2 5\n",
      "Reading config name /Raw data + config/SIS crate/siscf0-4ch-5GHz-1Mpnts-200us [Slot 15: SIS 3305 FPGA 2 ch 1]\n",
      " (xx/yy/zz/shots/steps/chan) = (21/1/1/1/1/1) of (41/1/1/1/1/1)2 5\n",
      "Reading config name /Raw data + config/SIS crate/siscf0-4ch-5GHz-1Mpnts-200us [Slot 15: SIS 3305 FPGA 2 ch 1]\n",
      " (xx/yy/zz/shots/steps/chan) = (22/1/1/1/1/1) of (41/1/1/1/1/1)2 5\n",
      "Reading config name /Raw data + config/SIS crate/siscf0-4ch-5GHz-1Mpnts-200us [Slot 15: SIS 3305 FPGA 2 ch 1]\n",
      " (xx/yy/zz/shots/steps/chan) = (23/1/1/1/1/1) of (41/1/1/1/1/1)2 5\n",
      "Reading config name /Raw data + config/SIS crate/siscf0-4ch-5GHz-1Mpnts-200us [Slot 15: SIS 3305 FPGA 2 ch 1]\n",
      " (xx/yy/zz/shots/steps/chan) = (24/1/1/1/1/1) of (41/1/1/1/1/1)2 5\n",
      "Reading config name /Raw data + config/SIS crate/siscf0-4ch-5GHz-1Mpnts-200us [Slot 15: SIS 3305 FPGA 2 ch 1]\n",
      " (xx/yy/zz/shots/steps/chan) = (25/1/1/1/1/1) of (41/1/1/1/1/1)2 5\n",
      "Reading config name /Raw data + config/SIS crate/siscf0-4ch-5GHz-1Mpnts-200us [Slot 15: SIS 3305 FPGA 2 ch 1]\n",
      " (xx/yy/zz/shots/steps/chan) = (26/1/1/1/1/1) of (41/1/1/1/1/1)2 5\n",
      "Reading config name /Raw data + config/SIS crate/siscf0-4ch-5GHz-1Mpnts-200us [Slot 15: SIS 3305 FPGA 2 ch 1]\n",
      " (xx/yy/zz/shots/steps/chan) = (27/1/1/1/1/1) of (41/1/1/1/1/1)2 5\n",
      "Reading config name /Raw data + config/SIS crate/siscf0-4ch-5GHz-1Mpnts-200us [Slot 15: SIS 3305 FPGA 2 ch 1]\n",
      " (xx/yy/zz/shots/steps/chan) = (28/1/1/1/1/1) of (41/1/1/1/1/1)2 5\n",
      "Reading config name /Raw data + config/SIS crate/siscf0-4ch-5GHz-1Mpnts-200us [Slot 15: SIS 3305 FPGA 2 ch 1]\n",
      " (xx/yy/zz/shots/steps/chan) = (29/1/1/1/1/1) of (41/1/1/1/1/1)2 5\n",
      "Reading config name /Raw data + config/SIS crate/siscf0-4ch-5GHz-1Mpnts-200us [Slot 15: SIS 3305 FPGA 2 ch 1]\n",
      " (xx/yy/zz/shots/steps/chan) = (30/1/1/1/1/1) of (41/1/1/1/1/1)2 5\n",
      "Reading config name /Raw data + config/SIS crate/siscf0-4ch-5GHz-1Mpnts-200us [Slot 15: SIS 3305 FPGA 2 ch 1]\n",
      " (xx/yy/zz/shots/steps/chan) = (31/1/1/1/1/1) of (41/1/1/1/1/1)2 5\n",
      "Reading config name /Raw data + config/SIS crate/siscf0-4ch-5GHz-1Mpnts-200us [Slot 15: SIS 3305 FPGA 2 ch 1]\n",
      " (xx/yy/zz/shots/steps/chan) = (32/1/1/1/1/1) of (41/1/1/1/1/1)2 5\n",
      "Reading config name /Raw data + config/SIS crate/siscf0-4ch-5GHz-1Mpnts-200us [Slot 15: SIS 3305 FPGA 2 ch 1]\n",
      " (xx/yy/zz/shots/steps/chan) = (33/1/1/1/1/1) of (41/1/1/1/1/1)2 5\n",
      "Reading config name /Raw data + config/SIS crate/siscf0-4ch-5GHz-1Mpnts-200us [Slot 15: SIS 3305 FPGA 2 ch 1]\n",
      " (xx/yy/zz/shots/steps/chan) = (34/1/1/1/1/1) of (41/1/1/1/1/1)2 5\n",
      "Reading config name /Raw data + config/SIS crate/siscf0-4ch-5GHz-1Mpnts-200us [Slot 15: SIS 3305 FPGA 2 ch 1]\n",
      " (xx/yy/zz/shots/steps/chan) = (35/1/1/1/1/1) of (41/1/1/1/1/1)2 5\n",
      "Reading config name /Raw data + config/SIS crate/siscf0-4ch-5GHz-1Mpnts-200us [Slot 15: SIS 3305 FPGA 2 ch 1]\n",
      " (xx/yy/zz/shots/steps/chan) = (36/1/1/1/1/1) of (41/1/1/1/1/1)2 5\n",
      "Reading config name /Raw data + config/SIS crate/siscf0-4ch-5GHz-1Mpnts-200us [Slot 15: SIS 3305 FPGA 2 ch 1]\n",
      " (xx/yy/zz/shots/steps/chan) = (37/1/1/1/1/1) of (41/1/1/1/1/1)2 5\n",
      "Reading config name /Raw data + config/SIS crate/siscf0-4ch-5GHz-1Mpnts-200us [Slot 15: SIS 3305 FPGA 2 ch 1]\n",
      " (xx/yy/zz/shots/steps/chan) = (38/1/1/1/1/1) of (41/1/1/1/1/1)2 5\n",
      "Reading config name /Raw data + config/SIS crate/siscf0-4ch-5GHz-1Mpnts-200us [Slot 15: SIS 3305 FPGA 2 ch 1]\n",
      " (xx/yy/zz/shots/steps/chan) = (39/1/1/1/1/1) of (41/1/1/1/1/1)2 5\n",
      "Reading config name /Raw data + config/SIS crate/siscf0-4ch-5GHz-1Mpnts-200us [Slot 15: SIS 3305 FPGA 2 ch 1]\n",
      " (xx/yy/zz/shots/steps/chan) = (40/1/1/1/1/1) of (41/1/1/1/1/1)2 5\n",
      "Reading config name /Raw data + config/SIS crate/siscf0-4ch-5GHz-1Mpnts-200us [Slot 15: SIS 3305 FPGA 2 ch 1]\n",
      " (xx/yy/zz/shots/steps/chan) = (41/1/1/1/1/1) of (41/1/1/1/1/1)\n",
      "2 5\n",
      "Reading config name /Raw data + config/SIS crate/siscf0-4ch-5GHz-1Mpnts-200us [Slot 15: SIS 3305 FPGA 2 ch 1]\n",
      "!!! (nt, nx, ny, nshots, nchan) = (1007616, 41, 1, 1, 1)\n",
      "{'Calibration tag': b'07/20/2020', 'Profile z locations': array([-300.     , -297.727  , -295.45395, ..., 2020.754  , 2023.027  ,\n",
      "       2025.3    ], dtype=float32), 'Magnet power supply currents': array([[2.6014634e+03, 2.6118625e+03, 2.6165579e+03, 2.6215696e+03,\n",
      "        9.1104523e+02, 9.1068939e+02, 9.1339099e+02, 9.1045093e+02,\n",
      "        1.0749569e+02, 9.1130731e+02, 9.5367432e-03, 8.8800000e+02,\n",
      "        8.8800000e+02],\n",
      "       [2.6130718e+03, 2.6117505e+03, 2.6164429e+03, 2.6216714e+03,\n",
      "        9.1105066e+02, 9.1069763e+02, 9.1339325e+02, 9.1041699e+02,\n",
      "        1.1436092e+02, 9.1062878e+02, 1.7166138e-02, 8.8800000e+02,\n",
      "        8.8800000e+02]], dtype=float32), 'Magnetic field profile': array([[18.37857 , 18.71635 , 19.063097, ..., 62.793633, 60.929916,\n",
      "        59.143814],\n",
      "       [18.382792, 18.72061 , 19.067394, ..., 62.82588 , 60.961597,\n",
      "        59.174942]], dtype=float32), 'Magnetic field summary': array([(   0, 3.71096921e+09, 1, 1684.3998),\n",
      "       (6274, 3.71097798e+09, 1, 1684.8275)],\n",
      "      dtype=[('Shot number', '<i4'), ('Timestamp', '<f8'), ('Data valid', 'i1'), ('Peak magnetic field', '<f4')])}\n",
      "[[18.37857  18.71635  19.063097 ... 62.793633 60.929916 59.143814]\n",
      " [18.382792 18.72061  19.067394 ... 62.82588  60.961597 59.174942]]\n"
     ]
    }
   ],
   "source": [
    "data = read_lapd_data(filename, rchan=[3], rshot=[4], yrange=[0]) \n"
   ]
  },
  {
   "cell_type": "code",
   "execution_count": 9,
   "id": "abfe216c",
   "metadata": {},
   "outputs": [
    {
     "data": {
      "text/plain": [
       "dict_keys(['data', 'x', 'y', 'z', 'time', 'dt', 'chanid', 'channame', 'desc', 'msi'])"
      ]
     },
     "execution_count": 9,
     "metadata": {},
     "output_type": "execute_result"
    }
   ],
   "source": [
    "data.keys()"
   ]
  },
  {
   "cell_type": "code",
   "execution_count": 10,
   "id": "bc45f9ae",
   "metadata": {},
   "outputs": [
    {
     "data": {
      "text/plain": [
       "array([49.9999012, 49.9999012, 49.9999012, 49.9999012, 49.9999012,\n",
       "       49.9999012, 49.9999012, 49.9999012, 49.9999012, 49.9999012,\n",
       "       49.9999012, 49.9999012, 49.9999012, 49.9999012, 49.9999012,\n",
       "       49.9999012, 49.9999012, 49.9999012, 49.9999012, 49.9999012,\n",
       "       49.9999012, 49.9999012, 49.9999012, 49.9999012, 49.9999012,\n",
       "       49.9999012, 49.9999012, 49.9999012, 49.9999012, 49.9999012,\n",
       "       49.9999012, 49.9999012, 49.9999012, 49.9999012, 49.9999012,\n",
       "       49.9999012, 49.9999012, 49.9999012, 49.9999012, 49.9999012,\n",
       "       49.9999012])"
      ]
     },
     "execution_count": 10,
     "metadata": {},
     "output_type": "execute_result"
    }
   ],
   "source": [
    "data['x']"
   ]
  },
  {
   "cell_type": "code",
   "execution_count": null,
   "id": "787e4389",
   "metadata": {},
   "outputs": [],
   "source": []
  }
 ],
 "metadata": {
  "kernelspec": {
   "display_name": "Python 3 (ipykernel)",
   "language": "python",
   "name": "python3"
  },
  "language_info": {
   "codemirror_mode": {
    "name": "ipython",
    "version": 3
   },
   "file_extension": ".py",
   "mimetype": "text/x-python",
   "name": "python",
   "nbconvert_exporter": "python",
   "pygments_lexer": "ipython3",
   "version": "3.10.9"
  }
 },
 "nbformat": 4,
 "nbformat_minor": 5
}
